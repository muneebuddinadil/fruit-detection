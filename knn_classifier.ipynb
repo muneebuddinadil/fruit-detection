{
 "cells": [
  {
   "cell_type": "code",
   "execution_count": 1,
   "metadata": {},
   "outputs": [],
   "source": [
    "import csv\n",
    "import random\n",
    "import math\n",
    "import operator\n",
    "import cv2"
   ]
  },
  {
   "cell_type": "code",
   "execution_count": 2,
   "metadata": {},
   "outputs": [],
   "source": [
    "# calculation of euclidead distance    \n",
    "def calculateEuclideanDistance(variable1, variable2, length):\n",
    "    distance = 0\n",
    "    for x in range(length):\n",
    "        distance += pow((variable1[x] - variable2[x]), 2)\n",
    "    return math.sqrt(distance)"
   ]
  },
  {
   "cell_type": "code",
   "execution_count": 3,
   "metadata": {},
   "outputs": [],
   "source": [
    "# get k nearest neigbors\n",
    "def kNearestNeighbors(training_feature_vector, testInstance, k):\n",
    "    distances = []\n",
    "    length = len(testInstance)\n",
    "    for x in range(len(training_feature_vector)):\n",
    "        dist = calculateEuclideanDistance(testInstance, training_feature_vector[x], length)\n",
    "        distances.append((training_feature_vector[x], dist))\n",
    "    distances.sort(key = operator.itemgetter(1))\n",
    "    neighbors = []\n",
    "    for x in range(k):\n",
    "        neighbors.append(distances[x][0])\n",
    "    return neighbors"
   ]
  },
  {
   "cell_type": "code",
   "execution_count": 4,
   "metadata": {},
   "outputs": [],
   "source": [
    "# votes of neighbors \n",
    "def responseOfNeighbors(neighbors):\n",
    "    all_possible_neighbors = {}\n",
    "    for x in range(len(neighbors)):\n",
    "        response = neighbors[x][-1]\n",
    "        if response in all_possible_neighbors:\n",
    "            all_possible_neighbors[response] += 1\n",
    "        else:\n",
    "            all_possible_neighbors[response] = 1\n",
    "    sortedVotes = sorted(all_possible_neighbors.items(), key=operator.itemgetter(1), reverse=True)\n",
    "    return sortedVotes[0][0]"
   ]
  },
  {
   "cell_type": "code",
   "execution_count": 5,
   "metadata": {},
   "outputs": [],
   "source": [
    "# Load image feature data to training feature vectors and test feature vector\n",
    "def loadDataset(filename, filename2, training_feature_vector=[] , test_feature_vector=[]):\n",
    "    with open(filename) as csvfile:\n",
    "        lines = csv.reader(csvfile)\n",
    "        dataset = list(lines)\n",
    "        for x in range(len(dataset)):\n",
    "            for y in range(3):\n",
    "                dataset[x][y] = float(dataset[x][y])\n",
    "            training_feature_vector.append(dataset[x])\n",
    "    with open(filename2) as csvfile:\n",
    "        lines = csv.reader(csvfile)\n",
    "        dataset = list(lines)\n",
    "        for x in range(len(dataset)):\n",
    "            for y in range(3):\n",
    "                dataset[x][y] = float(dataset[x][y])\n",
    "            test_feature_vector.append(dataset[x])"
   ]
  },
  {
   "cell_type": "code",
   "execution_count": 6,
   "metadata": {},
   "outputs": [],
   "source": [
    "def main(training_data, test_data):\n",
    "    training_feature_vector=[] #training feature vector\n",
    "    test_feature_vector=[] #test feature vector\n",
    "    loadDataset(training_data, test_data, training_feature_vector, test_feature_vector)\n",
    "    classifier_prediction=[] #predictions   \n",
    "    k = 3  # K value of k nearest neighbor\n",
    "    for x in range(len(test_feature_vector)):\n",
    "        neighbors = kNearestNeighbors(training_feature_vector, test_feature_vector[x], k)\n",
    "        result = responseOfNeighbors(neighbors)\n",
    "        classifier_prediction.append(result)\n",
    "    return classifier_prediction[0]"
   ]
  },
  {
   "cell_type": "code",
   "execution_count": null,
   "metadata": {},
   "outputs": [],
   "source": []
  }
 ],
 "metadata": {
  "kernelspec": {
   "display_name": "Python 3",
   "language": "python",
   "name": "python3"
  },
  "language_info": {
   "codemirror_mode": {
    "name": "ipython",
    "version": 3
   },
   "file_extension": ".py",
   "mimetype": "text/x-python",
   "name": "python",
   "nbconvert_exporter": "python",
   "pygments_lexer": "ipython3",
   "version": "3.6.5"
  }
 },
 "nbformat": 4,
 "nbformat_minor": 2
}
